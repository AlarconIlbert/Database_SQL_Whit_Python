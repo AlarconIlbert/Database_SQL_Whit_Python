{
 "cells": [
  {
   "cell_type": "markdown",
   "metadata": {},
   "source": [
    "## Creando una Base de datos usando SQLite"
   ]
  },
  {
   "cell_type": "code",
   "execution_count": 1,
   "metadata": {},
   "outputs": [],
   "source": [
    "import sqlite3\n",
    "import pandas as pd"
   ]
  },
  {
   "cell_type": "code",
   "execution_count": null,
   "metadata": {},
   "outputs": [],
   "source": [
    "conn = sqlite3.connect('INSTRUCTOR.db')"
   ]
  },
  {
   "cell_type": "markdown",
   "metadata": {},
   "source": [
    "Un cursor es un objeto que permite recorrer y manipular los resultados de una consulta SQL de manera programática. Los cursores son especialmente útiles cuando se realizan consultas que devuelven múltiples filas de datos, ya que permiten acceder a estas filas una a una, procesarlas y realizar operaciones en ellas."
   ]
  },
  {
   "cell_type": "code",
   "execution_count": null,
   "metadata": {},
   "outputs": [],
   "source": [
    "cursor_obj = conn.cursor()"
   ]
  },
  {
   "cell_type": "markdown",
   "metadata": {},
   "source": [
    "## Creando un tabla en la base de datos"
   ]
  },
  {
   "cell_type": "code",
   "execution_count": null,
   "metadata": {},
   "outputs": [],
   "source": [
    "# verifica que la conexion con la base de datos sea exitosa e imprime un mensaje, adicional crea un cursor\n",
    "\n",
    "cur=None\n",
    "\n",
    "try:\n",
    "    conn = sqlite3.connect('INSTRUCTOR.db')\n",
    "    \n",
    "    cur=conn.cursor()\n",
    "\n",
    "    ##--\n",
    "\n",
    "    cur.execute(\"DROP TABLE IF EXISTS public.wine_rating\")\n",
    "\n",
    "    cur.execute(\"\"\"\n",
    "                CREATE TABLE IF NOT EXISTS instructor (\n",
    "                    ID INTEGER PRIMARY KEY NOT NULL,\n",
    "                    FNAME VARCHAR(20) NOT NULL,\n",
    "                    LNAME VARCHAR(20) NOT NULL,\n",
    "                    CITY VARCHAR(20) NOT NULL,\n",
    "                    CCODE CHAR(2) NOT NULL\n",
    "                )\n",
    "                \"\"\")\n",
    "\n",
    "    conn.commit()\n",
    "    ##--\n",
    "except sqlite3.Error as e:\n",
    "    print(\"Error al conectar a la base de datos:\", e)\n",
    "finally:\n",
    "    if cur is not None:\n",
    "        cur.close()\n",
    "    if conn is not None:\n",
    "        conn.close()"
   ]
  },
  {
   "cell_type": "markdown",
   "metadata": {},
   "source": [
    "## Cargar Datos en la tabla"
   ]
  },
  {
   "cell_type": "code",
   "execution_count": null,
   "metadata": {},
   "outputs": [],
   "source": [
    "# verifica que la conexion con la base de datos sea exitosa e imprime un mensaje, adicional crea un cursor\n",
    "\n",
    "cur=None\n",
    "\n",
    "try:\n",
    "    conn = sqlite3.connect('INSTRUCTOR.db')\n",
    "    \n",
    "    cur=conn.cursor()\n",
    "\n",
    "    ##--\n",
    "\n",
    "    cur.execute('''\n",
    "                INSERT INTO instructor VALUES \n",
    "                (1, 'Rav', 'Ahuja', 'TORONTO', 'CA'),\n",
    "                (2, 'Raul', 'Chong', 'Markham', 'CA'),\n",
    "                (3, 'Hima', 'Vasudevan', 'Chicago', 'US')\n",
    "                ''')\n",
    "\n",
    "    conn.commit()\n",
    "    ##--\n",
    "except sqlite3.Error as e:\n",
    "    print(\"Error al conectar a la base de datos:\", e)\n",
    "finally:\n",
    "    if cur is not None:\n",
    "        cur.close()\n",
    "    if conn is not None:\n",
    "        conn.close()"
   ]
  },
  {
   "cell_type": "code",
   "execution_count": 2,
   "metadata": {},
   "outputs": [],
   "source": [
    "conn = sqlite3.connect(\"INSTRUCTOR.db\")\n",
    "query = \"SELECT * FROM instructor\"\n",
    "df = pd.read_sql_query(query, conn)\n",
    "\n",
    "conn.close()"
   ]
  },
  {
   "cell_type": "code",
   "execution_count": 3,
   "metadata": {},
   "outputs": [
    {
     "data": {
      "text/html": [
       "<div>\n",
       "<style scoped>\n",
       "    .dataframe tbody tr th:only-of-type {\n",
       "        vertical-align: middle;\n",
       "    }\n",
       "\n",
       "    .dataframe tbody tr th {\n",
       "        vertical-align: top;\n",
       "    }\n",
       "\n",
       "    .dataframe thead th {\n",
       "        text-align: right;\n",
       "    }\n",
       "</style>\n",
       "<table border=\"1\" class=\"dataframe\">\n",
       "  <thead>\n",
       "    <tr style=\"text-align: right;\">\n",
       "      <th></th>\n",
       "      <th>ID</th>\n",
       "      <th>FNAME</th>\n",
       "      <th>LNAME</th>\n",
       "      <th>CITY</th>\n",
       "      <th>CCODE</th>\n",
       "    </tr>\n",
       "  </thead>\n",
       "  <tbody>\n",
       "    <tr>\n",
       "      <th>0</th>\n",
       "      <td>1</td>\n",
       "      <td>Rav</td>\n",
       "      <td>Ahuja</td>\n",
       "      <td>TORONTO</td>\n",
       "      <td>CA</td>\n",
       "    </tr>\n",
       "  </tbody>\n",
       "</table>\n",
       "</div>"
      ],
      "text/plain": [
       "   ID FNAME  LNAME     CITY CCODE\n",
       "0   1   Rav  Ahuja  TORONTO    CA"
      ]
     },
     "execution_count": 3,
     "metadata": {},
     "output_type": "execute_result"
    }
   ],
   "source": [
    "df"
   ]
  }
 ],
 "metadata": {
  "kernelspec": {
   "display_name": ".venv",
   "language": "python",
   "name": "python3"
  },
  "language_info": {
   "codemirror_mode": {
    "name": "ipython",
    "version": 3
   },
   "file_extension": ".py",
   "mimetype": "text/x-python",
   "name": "python",
   "nbconvert_exporter": "python",
   "pygments_lexer": "ipython3",
   "version": "3.10.8"
  },
  "orig_nbformat": 4
 },
 "nbformat": 4,
 "nbformat_minor": 2
}
